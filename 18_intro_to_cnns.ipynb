{
 "cells": [
  {
   "cell_type": "markdown",
   "metadata": {},
   "source": [
    "# Introduction to Convolutional Neural Networks\n",
    "\n",
    "## Prerequisites\n",
    "\n",
    "* Neural Networks\n",
    "\n",
    "* Supervised Learning - Classification Problems\n",
    "\n",
    "## Learning Goals\n",
    "\n",
    "* Build familiarity with the following concepts:\n",
    "\n",
    "----\n",
    "\n",
    "### Problems in Computer Vision\n",
    "\n",
    "![](https://lisaong.github.io/mldds-courseware/03_TextImage/assets/image/cat_detectors.png)\n",
    "\n",
    "![](https://hackernoon.com/hn-images/1*gVwu29o-uUukoz3b4qjTcA.png)\n",
    "\n",
    "----\n",
    "\n",
    "### Common Issues and \"Quick\" Fixes\n",
    "\n",
    "#### Model Instability\n",
    "\n",
    "![](https://miro.medium.com/max/573/1*Nj_toOwx_Hc5NLn97Jv-ww.png)\n",
    "\n",
    "![](https://encrypted-tbn0.gstatic.com/images?q=tbn%3AANd9GcQlGtmWtdoaxm7ewc1dKym91lpPo76qoRTh0pRZl88l3EXbRo92)\n",
    "\n",
    "#### Data Augmentation\n",
    "\n",
    "![](https://hackernoon.com/hn-images/1*Z8L-niHsUacRRKx2P7dhGg.png)\n",
    "\n",
    "#### Test Time Augmentation\n",
    "\n",
    "![](https://camo.githubusercontent.com/817c7a27705ee1ac0bbd6f5ebc4982f224d7a0b3/68747470733a2f2f707265766965772e6962622e636f2f6b48363176302f706970656c696e652e706e67)\n",
    "\n",
    "#### Hardware\n",
    "\n",
    "![](https://miro.medium.com/max/889/0*c0dbic0TZRh9ILrx.jpg)\n",
    "\n",
    "----\n",
    "\n",
    "### Transfer Learning\n",
    "\n",
    "![](https://cdn-media-1.freecodecamp.org/images/1*BFIC_uZzi2v1p2254LLv2Q.png)\n",
    "\n",
    "-----"
   ]
  },
  {
   "cell_type": "markdown",
   "metadata": {},
   "source": [
    "## Example: MNIST (Hand-written Digit) Classifier w/ TensorFlow \n",
    "\n",
    "### Imports"
   ]
  },
  {
   "cell_type": "code",
   "execution_count": 2,
   "metadata": {},
   "outputs": [],
   "source": [
    "import matplotlib.pyplot as plt\n",
    "import seaborn as sns; sns.set()\n",
    "%matplotlib inline\n",
    "\n",
    "import numpy as np\n",
    "import pandas as pd\n",
    "\n",
    "import tensorflow as tf\n",
    "from tensorflow.examples.tutorials.mnist import input_data\n",
    "\n",
    "import warnings\n",
    "warnings.filterwarnings(\"ignore\")"
   ]
  },
  {
   "cell_type": "markdown",
   "metadata": {},
   "source": [
    "### Read Data"
   ]
  },
  {
   "cell_type": "code",
   "execution_count": 4,
   "metadata": {},
   "outputs": [
    {
     "name": "stdout",
     "output_type": "stream",
     "text": [
      "Extracting ./data/mnist\\train-images-idx3-ubyte.gz\n",
      "Extracting ./data/mnist\\train-labels-idx1-ubyte.gz\n",
      "Extracting ./data/mnist\\t10k-images-idx3-ubyte.gz\n",
      "Extracting ./data/mnist\\t10k-labels-idx1-ubyte.gz\n"
     ]
    }
   ],
   "source": [
    "data = input_data.read_data_sets(\"./data/mnist\", one_hot = True)"
   ]
  },
  {
   "cell_type": "markdown",
   "metadata": {},
   "source": [
    "### Pixel Visualization"
   ]
  },
  {
   "cell_type": "code",
   "execution_count": 5,
   "metadata": {},
   "outputs": [
    {
     "data": {
      "text/plain": [
       "<matplotlib.image.AxesImage at 0x200024bbba8>"
      ]
     },
     "execution_count": 5,
     "metadata": {},
     "output_type": "execute_result"
    },
    {
     "data": {
      "image/png": "[encoded data removed]",
      "text/plain": [
       "<Figure size 432x288 with 1 Axes>"
      ]
     },
     "metadata": {
      "needs_background": "light"
     },
     "output_type": "display_data"
    }
   ],
   "source": [
    "img = np.reshape(data.train.images[5], (28,28))\n",
    "plt.imshow(img)"
   ]
  },
  {
   "cell_type": "code",
   "execution_count": 6,
   "metadata": {},
   "outputs": [
    {
     "name": "stdout",
     "output_type": "stream",
     "text": [
      "Max Value: 1.0\n",
      "Min Value: 0.0\n"
     ]
    }
   ],
   "source": [
    "print(\"Max Value: {}\\nMin Value: {}\".format(np.max(img), np.min(img)))"
   ]
  },
  {
   "cell_type": "markdown",
   "metadata": {},
   "source": [
    "### Setup"
   ]
  },
  {
   "cell_type": "code",
   "execution_count": 7,
   "metadata": {},
   "outputs": [
    {
     "name": "stdout",
     "output_type": "stream",
     "text": [
      "Train Shape: (55000, 28, 28, 1)\n",
      "Test Shape: (10000, 28, 28, 1)\n"
     ]
    }
   ],
   "source": [
    "train_X = data.train.images.reshape(-1, 28, 28, 1)\n",
    "test_X = data.test.images.reshape(-1, 28, 28, 1)\n",
    "print(\"Train Shape: {}\\nTest Shape: {}\".format(train_X.shape, test_X.shape))"
   ]
  },
  {
   "cell_type": "code",
   "execution_count": 8,
   "metadata": {},
   "outputs": [],
   "source": [
    "train_y = data.train.labels\n",
    "test_y = data.test.labels"
   ]
  },
  {
   "cell_type": "code",
   "execution_count": 9,
   "metadata": {},
   "outputs": [],
   "source": [
    "epochs = 10\n",
    "learning_rate = 0.001\n",
    "batch_size = 128"
   ]
  },
  {
   "cell_type": "code",
   "execution_count": 10,
   "metadata": {},
   "outputs": [],
   "source": [
    "n_input = 28\n",
    "n_classes = 10"
   ]
  },
  {
   "cell_type": "code",
   "execution_count": 11,
   "metadata": {},
   "outputs": [],
   "source": [
    "x = tf.placeholder(\"float\", [None, 28, 28, 1])\n",
    "y = tf.placeholder(\"float\", [None, n_classes])"
   ]
  },
  {
   "cell_type": "markdown",
   "metadata": {},
   "source": [
    "### The Layers"
   ]
  },
  {
   "cell_type": "code",
   "execution_count": 12,
   "metadata": {},
   "outputs": [],
   "source": [
    "def conv2d(x, W, b, stride = 1):\n",
    "    x = tf.nn.conv2d(x, W, strides = [1, stride, stride, 1], padding = \"SAME\")\n",
    "    x = tf.nn.bias_add(x, b)\n",
    "    return tf.nn.relu(x)\n",
    "\n",
    "def maxpool2d(x, k = 2):\n",
    "    return tf.nn.max_pool(x, ksize = [1, k , k , 1], strides = [1, k , k, 1], padding = \"SAME\")"
   ]
  },
  {
   "cell_type": "code",
   "execution_count": 13,
   "metadata": {},
   "outputs": [],
   "source": [
    "weights = {\n",
    "    'wc1' : tf.get_variable('W0', shape = (3, 3, 1, 32), initializer = tf.contrib.layers.xavier_initializer()),\n",
    "    'wc2' : tf.get_variable('W1', shape = (3, 3, 32, 64), initializer = tf.contrib.layers.xavier_initializer()),\n",
    "    'wc3' : tf.get_variable('W2', shape = (3, 3, 64, 128), initializer = tf.contrib.layers.xavier_initializer()),\n",
    "    'wd1' : tf.get_variable('W3', shape = (4 * 4 * 128, 128), initializer = tf.contrib.layers.xavier_initializer()),\n",
    "    'out' : tf.get_variable('W4', shape = (128, n_classes), initializer = tf.contrib.layers.xavier_initializer())\n",
    "}\n",
    "\n",
    "biases = {\n",
    "    'bc1': tf.get_variable('B0', shape = (32), initializer = tf.contrib.layers.xavier_initializer()),\n",
    "    'bc2': tf.get_variable('B1', shape = (64), initializer = tf.contrib.layers.xavier_initializer()),\n",
    "    'bc3': tf.get_variable('B2', shape = (128), initializer = tf.contrib.layers.xavier_initializer()),\n",
    "    'bd1': tf.get_variable('B3', shape = (128), initializer = tf.contrib.layers.xavier_initializer()),\n",
    "    'out': tf.get_variable('B4', shape = (10), initializer = tf.contrib.layers.xavier_initializer()),\n",
    "}"
   ]
  },
  {
   "cell_type": "markdown",
   "metadata": {},
   "source": [
    "### The Net"
   ]
  },
  {
   "cell_type": "code",
   "execution_count": 14,
   "metadata": {},
   "outputs": [],
   "source": [
    "def conv_net(x, weights, biases):\n",
    "    conv1 = conv2d(x, weights['wc1'], biases['bc1'])\n",
    "    conv1 = maxpool2d(conv1, k = 2)\n",
    "    conv2 = conv2d(conv1, weights['wc2'], biases['bc2'])\n",
    "    conv2 = maxpool2d(conv2, k = 2)\n",
    "    conv3 = conv2d(conv2, weights['wc3'], biases['bc3'])\n",
    "    conv3 = maxpool2d(conv3, k = 2)\n",
    "    fc1 = tf.reshape(conv3, [-1, weights['wd1'].get_shape().as_list()[0]])\n",
    "    fc1 = tf.add(tf.matmul(fc1, weights['wd1']), biases['bd1'])\n",
    "    fc1 = tf.nn.relu(fc1)\n",
    "    out = tf.add(tf.matmul(fc1, weights['out']), biases['out'])\n",
    "    return out"
   ]
  },
  {
   "cell_type": "code",
   "execution_count": 19,
   "metadata": {},
   "outputs": [],
   "source": [
    "pred = conv_net(x, weights, biases)\n",
    "cost = tf.reduce_mean(tf.nn.softmax_cross_entropy_with_logits(logits=pred, \n",
    "                                                              labels=y))\n",
    "optimizer = tf.train.AdamOptimizer(learning_rate=learning_rate).minimize(cost)"
   ]
  },
  {
   "cell_type": "code",
   "execution_count": 20,
   "metadata": {},
   "outputs": [],
   "source": [
    "correct_prediction = tf.equal(tf.argmax(pred, 1), tf.argmax(y, 1))\n",
    "accuracy = tf.reduce_mean(tf.cast(correct_prediction, tf.float32))"
   ]
  },
  {
   "cell_type": "code",
   "execution_count": 21,
   "metadata": {},
   "outputs": [],
   "source": [
    "init = tf.global_variables_initializer()"
   ]
  },
  {
   "cell_type": "markdown",
   "metadata": {},
   "source": [
    "### Training the Model"
   ]
  },
  {
   "cell_type": "code",
   "execution_count": 22,
   "metadata": {},
   "outputs": [
    {
     "name": "stdout",
     "output_type": "stream",
     "text": [
      "Iter 0, Loss= 0.013913, Training Accuracy= 1.00000\n",
      "Optimization Finished!\n",
      "Testing Accuracy: 0.97290\n",
      "Iter 1, Loss= 0.010445, Training Accuracy= 1.00000\n",
      "Optimization Finished!\n",
      "Testing Accuracy: 0.98620\n",
      "Iter 2, Loss= 0.008431, Training Accuracy= 1.00000\n",
      "Optimization Finished!\n",
      "Testing Accuracy: 0.98630\n",
      "Iter 3, Loss= 0.004902, Training Accuracy= 1.00000\n",
      "Optimization Finished!\n",
      "Testing Accuracy: 0.98950\n",
      "Iter 4, Loss= 0.012950, Training Accuracy= 0.99219\n",
      "Optimization Finished!\n",
      "Testing Accuracy: 0.98620\n",
      "Iter 5, Loss= 0.011946, Training Accuracy= 0.99219\n",
      "Optimization Finished!\n",
      "Testing Accuracy: 0.98620\n",
      "Iter 6, Loss= 0.001370, Training Accuracy= 1.00000\n",
      "Optimization Finished!\n",
      "Testing Accuracy: 0.98920\n",
      "Iter 7, Loss= 0.000525, Training Accuracy= 1.00000\n",
      "Optimization Finished!\n",
      "Testing Accuracy: 0.98870\n",
      "Iter 8, Loss= 0.000583, Training Accuracy= 1.00000\n",
      "Optimization Finished!\n",
      "Testing Accuracy: 0.98860\n",
      "Iter 9, Loss= 0.000265, Training Accuracy= 1.00000\n",
      "Optimization Finished!\n",
      "Testing Accuracy: 0.99000\n"
     ]
    }
   ],
   "source": [
    "with tf.Session() as sess:\n",
    "    sess.run(init) \n",
    "    train_loss = []\n",
    "    test_loss = []\n",
    "    train_accuracy = []\n",
    "    test_accuracy = []\n",
    "    summary_writer = tf.summary.FileWriter('./Output', sess.graph)\n",
    "    for i in range(epochs):\n",
    "        for batch in range(len(train_X)//batch_size):\n",
    "            batch_x = train_X[batch*batch_size:min((batch+1)*batch_size,len(train_X))]\n",
    "            batch_y = train_y[batch*batch_size:min((batch+1)*batch_size,len(train_y))]    \n",
    "            opt = sess.run(optimizer, feed_dict={x: batch_x,\n",
    "                                                              y: batch_y})\n",
    "            loss, acc = sess.run([cost, accuracy], feed_dict={x: batch_x,\n",
    "                                                              y: batch_y})\n",
    "        print(\"Iter \" + str(i) + \", Loss= \" + \\\n",
    "                      \"{:.6f}\".format(loss) + \", Training Accuracy= \" + \\\n",
    "                      \"{:.5f}\".format(acc))\n",
    "        print(\"Optimization Finished!\")\n",
    "\n",
    "\n",
    "        test_acc,valid_loss = sess.run([accuracy,cost], feed_dict={x: test_X,y : test_y})\n",
    "        train_loss.append(loss)\n",
    "        test_loss.append(valid_loss)\n",
    "        train_accuracy.append(acc)\n",
    "        test_accuracy.append(test_acc)\n",
    "        print(\"Testing Accuracy:\",\"{:.5f}\".format(test_acc))\n",
    "    summary_writer.close()"
   ]
  },
  {
   "cell_type": "markdown",
   "metadata": {},
   "source": [
    "### Model Performance"
   ]
  },
  {
   "cell_type": "code",
   "execution_count": 27,
   "metadata": {},
   "outputs": [
    {
     "data": {
      "image/png": "[encoded data removed]",
      "text/plain": [
       "<Figure size 1440x576 with 1 Axes>"
      ]
     },
     "metadata": {
      "needs_background": "light"
     },
     "output_type": "display_data"
    }
   ],
   "source": [
    "plt.figure(figsize=(20,8))\n",
    "plt.plot(range(len(train_loss)), train_loss, 'b', label='Training loss')\n",
    "plt.plot(range(len(train_loss)), test_loss, 'r', label='Test loss')\n",
    "plt.title('Training and Test loss')\n",
    "plt.xlabel('Epochs ',fontsize=16)\n",
    "plt.ylabel('Loss',fontsize=16)\n",
    "plt.legend()\n",
    "plt.show()"
   ]
  },
  {
   "cell_type": "code",
   "execution_count": 28,
   "metadata": {},
   "outputs": [
    {
     "data": {
      "image/png": "[encoded data removed]",
      "text/plain": [
       "<Figure size 1440x576 with 1 Axes>"
      ]
     },
     "metadata": {
      "needs_background": "light"
     },
     "output_type": "display_data"
    }
   ],
   "source": [
    "plt.figure(figsize=(20,8))\n",
    "plt.plot(range(len(train_loss)), train_accuracy, 'b', label='Training Accuracy')\n",
    "plt.plot(range(len(train_loss)), test_accuracy, 'r', label='Test Accuracy')\n",
    "plt.title('Training and Test Accuracy')\n",
    "plt.xlabel('Epochs ',fontsize=16)\n",
    "plt.ylabel('Loss',fontsize=16)\n",
    "plt.legend()\n",
    "plt.show()"
   ]
  },
  {
   "cell_type": "markdown",
   "metadata": {},
   "source": [
    "## How do CNNS work?\n",
    "\n",
    "![](./CNN-Layers.png)\n",
    "\n",
    "![](./CNN-Structural-Learning.png)\n",
    "\n",
    "![](./CNN-Topology.png)\n",
    "\n",
    "-----\n",
    "\n",
    "# References / Resources\n",
    "\n",
    "## Kaggle\n",
    "\n",
    "* [A Very Comprehensive Tutorial to NNs and CNNs](https://www.kaggle.com/shivamb/a-very-comprehensive-tutorial-nn-cnn)\n",
    "\n",
    "* [Flower Classification Competition **(w/ Free TPUs!)**](https://www.kaggle.com/c/flower-classification-with-tpus/overview/description)\n",
    "\n",
    "* [Carvana Competition 1st Place Solution](https://github.com/asanakoy/kaggle_carvana_segmentation)\n",
    "\n",
    "* [Carvana Competition 3rd Place Solution](https://github.com/lyakaap/Kaggle-Carvana-3rd-place-solution)\n",
    "\n",
    "* [VGG16 + U-Net on Carvana](https://www.kaggle.com/kmader/vgg16-u-net-on-carvana)\n",
    "\n",
    "* [Transfer Learning for Pneumonia](https://www.kaggle.com/mvwestendorp/transfer-learning-for-pneumonia)\n",
    "\n",
    "## More on Segmentation\n",
    "\n",
    "* [Image Segmentation - How to Turn Classifiers into Segmenters](https://meetshah1995.github.io/semantic-segmentation/deep-learning/pytorch/visdom/2017/06/01/semantic-segmentation-over-the-years.html)\n",
    "\n",
    "* [Segmentation w/ TorchVision](https://www.learnopencv.com/pytorch-for-beginners-semantic-segmentation-using-torchvision/)\n",
    "\n",
    "* [Self-Driving Example: Segmentation w/ Pyramid Architecture](https://youtu.be/HYghTzmbv6Q)\n",
    "\n",
    "* [MIT Scene Parsing Benchmark](http://sceneparsing.csail.mit.edu/)\n",
    "\n",
    "* [YOLO Paper](https://arxiv.org/pdf/1506.02640.pdf)\n",
    "\n",
    "## Papers\n",
    "\n",
    "* [Bengio, *Practical Recommendations for Gradient-Based Training of Deep Architectures*](https://arxiv.org/pdf/1206.5533.pdf)\n",
    "\n",
    "* [Hinton et al., *Improving NNs by preventing co-adaptation of feature detectors*](https://arxiv.org/pdf/1207.0580v1.pdf)\n",
    "\n",
    "* [Hinton et al., *ImageNet Classification with Deep Convolutional Neural Networks*](http://papers.nips.cc/paper/4824-imagenet-classification-with-deep-convolutional-neural-networks.pdf)\n",
    "\n",
    "* [LeCun et al., *Learning Convolutional Feature Hierarchies for Visual Recognition*](http://yann.lecun.com/exdb/publis/pdf/koray-nips-10.pdf)\n",
    "\n",
    "* [Zeiler & Fergus, *Visualizing and Understanding Convolutional Networks*](https://www.matthewzeiler.com/mattzeiler/eccv2014.pdf)\n",
    "\n",
    "\n",
    "## Stanford Lecture Series\n",
    "\n",
    "* [Intro to CNNs for Visual Recognition](https://youtu.be/vT1JzLTH4G4)\n",
    "\n",
    "* [Image Classification](https://youtu.be/OoUX-nOEjG0)\n",
    "\n",
    "* [Loss Functions and Optimization](https://youtu.be/h7iBpEHGVNc)\n",
    "\n",
    "* [Intro to NNs](https://youtu.be/d14TUNcbn1k)\n",
    "\n",
    "* [CNNs](https://youtu.be/bNb2fEVKeEo)\n",
    "\n",
    "* [Training NNs - Part I](https://youtu.be/wEoyxE0GP2M)\n",
    "\n",
    "* [Training NNs - Part II](https://youtu.be/_JB0AO7QxSA)\n",
    "\n",
    "* [Deep Learning Software](https://youtu.be/6SlgtELqOWc)\n",
    "\n",
    "* [CNN Architectures](https://youtu.be/DAOcjicFr1Y)\n",
    "\n",
    "## Implementations\n",
    "\n",
    "* [Image Augmentation](https://github.com/andrewekhalel/edafa)\n",
    "\n",
    "* [Text Augmentation](https://github.com/huggingface/transformers)\n",
    "\n",
    "* [Keras Models](https://keras.io/applications/)\n",
    "\n",
    "* [TensorFlow Models](https://github.com/tensorflow/models)\n",
    "\n",
    "* [PyTorch Models](https://pytorch.org/docs/stable/torchvision/models.html)"
   ]
  }
 ],
 "metadata": {
  "kernelspec": {
   "display_name": "Python 3",
   "language": "python",
   "name": "python3"
  },
  "language_info": {
   "codemirror_mode": {
    "name": "ipython",
    "version": 3
   },
   "file_extension": ".py",
   "mimetype": "text/x-python",
   "name": "python",
   "nbconvert_exporter": "python",
   "pygments_lexer": "ipython3",
   "version": "3.7.3"
  }
 },
 "nbformat": 4,
 "nbformat_minor": 2
}
