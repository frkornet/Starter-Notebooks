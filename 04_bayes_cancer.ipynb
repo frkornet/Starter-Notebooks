{
 "cells": [
  {
   "cell_type": "code",
   "execution_count": 1,
   "metadata": {},
   "outputs": [],
   "source": [
    "from sklearn.datasets import load_breast_cancer\n",
    "\n",
    "import numpy as np\n",
    "import pandas as pd"
   ]
  },
  {
   "cell_type": "code",
   "execution_count": 2,
   "metadata": {},
   "outputs": [
    {
     "data": {
      "text/html": [
       "<div>\n",
       "<style scoped>\n",
       "    .dataframe tbody tr th:only-of-type {\n",
       "        vertical-align: middle;\n",
       "    }\n",
       "\n",
       "    .dataframe tbody tr th {\n",
       "        vertical-align: top;\n",
       "    }\n",
       "\n",
       "    .dataframe thead th {\n",
       "        text-align: right;\n",
       "    }\n",
       "</style>\n",
       "<table border=\"1\" class=\"dataframe\">\n",
       "  <thead>\n",
       "    <tr style=\"text-align: right;\">\n",
       "      <th></th>\n",
       "      <th>mean radius</th>\n",
       "      <th>mean texture</th>\n",
       "      <th>mean perimeter</th>\n",
       "      <th>mean area</th>\n",
       "      <th>mean smoothness</th>\n",
       "      <th>mean compactness</th>\n",
       "      <th>mean concavity</th>\n",
       "      <th>mean concave points</th>\n",
       "      <th>mean symmetry</th>\n",
       "      <th>mean fractal dimension</th>\n",
       "      <th>...</th>\n",
       "      <th>worst texture</th>\n",
       "      <th>worst perimeter</th>\n",
       "      <th>worst area</th>\n",
       "      <th>worst smoothness</th>\n",
       "      <th>worst compactness</th>\n",
       "      <th>worst concavity</th>\n",
       "      <th>worst concave points</th>\n",
       "      <th>worst symmetry</th>\n",
       "      <th>worst fractal dimension</th>\n",
       "      <th>TARGET</th>\n",
       "    </tr>\n",
       "  </thead>\n",
       "  <tbody>\n",
       "    <tr>\n",
       "      <th>116</th>\n",
       "      <td>8.950</td>\n",
       "      <td>15.76</td>\n",
       "      <td>58.74</td>\n",
       "      <td>245.2</td>\n",
       "      <td>0.09462</td>\n",
       "      <td>0.12430</td>\n",
       "      <td>0.09263</td>\n",
       "      <td>0.023080</td>\n",
       "      <td>0.1305</td>\n",
       "      <td>0.07163</td>\n",
       "      <td>...</td>\n",
       "      <td>17.07</td>\n",
       "      <td>63.34</td>\n",
       "      <td>270.0</td>\n",
       "      <td>0.11790</td>\n",
       "      <td>0.18790</td>\n",
       "      <td>0.15440</td>\n",
       "      <td>0.03846</td>\n",
       "      <td>0.1652</td>\n",
       "      <td>0.07722</td>\n",
       "      <td>1</td>\n",
       "    </tr>\n",
       "    <tr>\n",
       "      <th>546</th>\n",
       "      <td>10.320</td>\n",
       "      <td>16.35</td>\n",
       "      <td>65.31</td>\n",
       "      <td>324.9</td>\n",
       "      <td>0.09434</td>\n",
       "      <td>0.04994</td>\n",
       "      <td>0.01012</td>\n",
       "      <td>0.005495</td>\n",
       "      <td>0.1885</td>\n",
       "      <td>0.06201</td>\n",
       "      <td>...</td>\n",
       "      <td>21.77</td>\n",
       "      <td>71.12</td>\n",
       "      <td>384.9</td>\n",
       "      <td>0.12850</td>\n",
       "      <td>0.08842</td>\n",
       "      <td>0.04384</td>\n",
       "      <td>0.02381</td>\n",
       "      <td>0.2681</td>\n",
       "      <td>0.07399</td>\n",
       "      <td>1</td>\n",
       "    </tr>\n",
       "    <tr>\n",
       "      <th>344</th>\n",
       "      <td>11.710</td>\n",
       "      <td>15.45</td>\n",
       "      <td>75.03</td>\n",
       "      <td>420.3</td>\n",
       "      <td>0.11500</td>\n",
       "      <td>0.07281</td>\n",
       "      <td>0.04006</td>\n",
       "      <td>0.032500</td>\n",
       "      <td>0.2009</td>\n",
       "      <td>0.06506</td>\n",
       "      <td>...</td>\n",
       "      <td>18.16</td>\n",
       "      <td>84.16</td>\n",
       "      <td>516.4</td>\n",
       "      <td>0.14600</td>\n",
       "      <td>0.11150</td>\n",
       "      <td>0.10870</td>\n",
       "      <td>0.07864</td>\n",
       "      <td>0.2765</td>\n",
       "      <td>0.07806</td>\n",
       "      <td>1</td>\n",
       "    </tr>\n",
       "    <tr>\n",
       "      <th>274</th>\n",
       "      <td>17.930</td>\n",
       "      <td>24.48</td>\n",
       "      <td>115.20</td>\n",
       "      <td>998.9</td>\n",
       "      <td>0.08855</td>\n",
       "      <td>0.07027</td>\n",
       "      <td>0.05699</td>\n",
       "      <td>0.047440</td>\n",
       "      <td>0.1538</td>\n",
       "      <td>0.05510</td>\n",
       "      <td>...</td>\n",
       "      <td>34.69</td>\n",
       "      <td>135.10</td>\n",
       "      <td>1320.0</td>\n",
       "      <td>0.13150</td>\n",
       "      <td>0.18060</td>\n",
       "      <td>0.20800</td>\n",
       "      <td>0.11360</td>\n",
       "      <td>0.2504</td>\n",
       "      <td>0.07948</td>\n",
       "      <td>0</td>\n",
       "    </tr>\n",
       "    <tr>\n",
       "      <th>146</th>\n",
       "      <td>11.800</td>\n",
       "      <td>16.58</td>\n",
       "      <td>78.99</td>\n",
       "      <td>432.0</td>\n",
       "      <td>0.10910</td>\n",
       "      <td>0.17000</td>\n",
       "      <td>0.16590</td>\n",
       "      <td>0.074150</td>\n",
       "      <td>0.2678</td>\n",
       "      <td>0.07371</td>\n",
       "      <td>...</td>\n",
       "      <td>26.38</td>\n",
       "      <td>91.93</td>\n",
       "      <td>591.7</td>\n",
       "      <td>0.13850</td>\n",
       "      <td>0.40920</td>\n",
       "      <td>0.45040</td>\n",
       "      <td>0.18650</td>\n",
       "      <td>0.5774</td>\n",
       "      <td>0.10300</td>\n",
       "      <td>0</td>\n",
       "    </tr>\n",
       "    <tr>\n",
       "      <th>538</th>\n",
       "      <td>7.729</td>\n",
       "      <td>25.49</td>\n",
       "      <td>47.98</td>\n",
       "      <td>178.8</td>\n",
       "      <td>0.08098</td>\n",
       "      <td>0.04878</td>\n",
       "      <td>0.00000</td>\n",
       "      <td>0.000000</td>\n",
       "      <td>0.1870</td>\n",
       "      <td>0.07285</td>\n",
       "      <td>...</td>\n",
       "      <td>30.92</td>\n",
       "      <td>57.17</td>\n",
       "      <td>248.0</td>\n",
       "      <td>0.12560</td>\n",
       "      <td>0.08340</td>\n",
       "      <td>0.00000</td>\n",
       "      <td>0.00000</td>\n",
       "      <td>0.3058</td>\n",
       "      <td>0.09938</td>\n",
       "      <td>1</td>\n",
       "    </tr>\n",
       "    <tr>\n",
       "      <th>14</th>\n",
       "      <td>13.730</td>\n",
       "      <td>22.61</td>\n",
       "      <td>93.60</td>\n",
       "      <td>578.3</td>\n",
       "      <td>0.11310</td>\n",
       "      <td>0.22930</td>\n",
       "      <td>0.21280</td>\n",
       "      <td>0.080250</td>\n",
       "      <td>0.2069</td>\n",
       "      <td>0.07682</td>\n",
       "      <td>...</td>\n",
       "      <td>32.01</td>\n",
       "      <td>108.80</td>\n",
       "      <td>697.7</td>\n",
       "      <td>0.16510</td>\n",
       "      <td>0.77250</td>\n",
       "      <td>0.69430</td>\n",
       "      <td>0.22080</td>\n",
       "      <td>0.3596</td>\n",
       "      <td>0.14310</td>\n",
       "      <td>0</td>\n",
       "    </tr>\n",
       "    <tr>\n",
       "      <th>284</th>\n",
       "      <td>12.890</td>\n",
       "      <td>15.70</td>\n",
       "      <td>84.08</td>\n",
       "      <td>516.6</td>\n",
       "      <td>0.07818</td>\n",
       "      <td>0.09580</td>\n",
       "      <td>0.11150</td>\n",
       "      <td>0.033900</td>\n",
       "      <td>0.1432</td>\n",
       "      <td>0.05935</td>\n",
       "      <td>...</td>\n",
       "      <td>19.69</td>\n",
       "      <td>92.12</td>\n",
       "      <td>595.6</td>\n",
       "      <td>0.09926</td>\n",
       "      <td>0.23170</td>\n",
       "      <td>0.33440</td>\n",
       "      <td>0.10170</td>\n",
       "      <td>0.1999</td>\n",
       "      <td>0.07127</td>\n",
       "      <td>1</td>\n",
       "    </tr>\n",
       "  </tbody>\n",
       "</table>\n",
       "<p>8 rows × 31 columns</p>\n",
       "</div>"
      ],
      "text/plain": [
       "     mean radius  mean texture  mean perimeter  mean area  mean smoothness  \\\n",
       "116        8.950         15.76           58.74      245.2          0.09462   \n",
       "546       10.320         16.35           65.31      324.9          0.09434   \n",
       "344       11.710         15.45           75.03      420.3          0.11500   \n",
       "274       17.930         24.48          115.20      998.9          0.08855   \n",
       "146       11.800         16.58           78.99      432.0          0.10910   \n",
       "538        7.729         25.49           47.98      178.8          0.08098   \n",
       "14        13.730         22.61           93.60      578.3          0.11310   \n",
       "284       12.890         15.70           84.08      516.6          0.07818   \n",
       "\n",
       "     mean compactness  mean concavity  mean concave points  mean symmetry  \\\n",
       "116           0.12430         0.09263             0.023080         0.1305   \n",
       "546           0.04994         0.01012             0.005495         0.1885   \n",
       "344           0.07281         0.04006             0.032500         0.2009   \n",
       "274           0.07027         0.05699             0.047440         0.1538   \n",
       "146           0.17000         0.16590             0.074150         0.2678   \n",
       "538           0.04878         0.00000             0.000000         0.1870   \n",
       "14            0.22930         0.21280             0.080250         0.2069   \n",
       "284           0.09580         0.11150             0.033900         0.1432   \n",
       "\n",
       "     mean fractal dimension  ...  worst texture  worst perimeter  worst area  \\\n",
       "116                 0.07163  ...          17.07            63.34       270.0   \n",
       "546                 0.06201  ...          21.77            71.12       384.9   \n",
       "344                 0.06506  ...          18.16            84.16       516.4   \n",
       "274                 0.05510  ...          34.69           135.10      1320.0   \n",
       "146                 0.07371  ...          26.38            91.93       591.7   \n",
       "538                 0.07285  ...          30.92            57.17       248.0   \n",
       "14                  0.07682  ...          32.01           108.80       697.7   \n",
       "284                 0.05935  ...          19.69            92.12       595.6   \n",
       "\n",
       "     worst smoothness  worst compactness  worst concavity  \\\n",
       "116           0.11790            0.18790          0.15440   \n",
       "546           0.12850            0.08842          0.04384   \n",
       "344           0.14600            0.11150          0.10870   \n",
       "274           0.13150            0.18060          0.20800   \n",
       "146           0.13850            0.40920          0.45040   \n",
       "538           0.12560            0.08340          0.00000   \n",
       "14            0.16510            0.77250          0.69430   \n",
       "284           0.09926            0.23170          0.33440   \n",
       "\n",
       "     worst concave points  worst symmetry  worst fractal dimension  TARGET  \n",
       "116               0.03846          0.1652                  0.07722       1  \n",
       "546               0.02381          0.2681                  0.07399       1  \n",
       "344               0.07864          0.2765                  0.07806       1  \n",
       "274               0.11360          0.2504                  0.07948       0  \n",
       "146               0.18650          0.5774                  0.10300       0  \n",
       "538               0.00000          0.3058                  0.09938       1  \n",
       "14                0.22080          0.3596                  0.14310       0  \n",
       "284               0.10170          0.1999                  0.07127       1  \n",
       "\n",
       "[8 rows x 31 columns]"
      ]
     },
     "execution_count": 2,
     "metadata": {},
     "output_type": "execute_result"
    }
   ],
   "source": [
    "cancer = load_breast_cancer()\n",
    "data, y, labels = cancer.data, cancer.target, cancer.feature_names\n",
    "df = pd.DataFrame(data, columns=labels)\n",
    "target = 'TARGET'\n",
    "df[target] = y\n",
    "\n",
    "df.sample(8)"
   ]
  },
  {
   "cell_type": "code",
   "execution_count": 3,
   "metadata": {},
   "outputs": [],
   "source": [
    "from sklearn.naive_bayes import GaussianNB\n",
    "from sklearn.model_selection import cross_val_score"
   ]
  },
  {
   "cell_type": "code",
   "execution_count": 4,
   "metadata": {},
   "outputs": [
    {
     "data": {
      "text/plain": [
       "Index(['mean radius', 'mean texture', 'mean perimeter', 'mean area',\n",
       "       'mean smoothness', 'mean compactness', 'mean concavity',\n",
       "       'mean concave points', 'mean symmetry', 'mean fractal dimension',\n",
       "       'radius error', 'texture error', 'perimeter error', 'area error',\n",
       "       'smoothness error', 'compactness error', 'concavity error',\n",
       "       'concave points error', 'symmetry error', 'fractal dimension error',\n",
       "       'worst radius', 'worst texture', 'worst perimeter', 'worst area',\n",
       "       'worst smoothness', 'worst compactness', 'worst concavity',\n",
       "       'worst concave points', 'worst symmetry', 'worst fractal dimension',\n",
       "       'TARGET'],\n",
       "      dtype='object')"
      ]
     },
     "execution_count": 4,
     "metadata": {},
     "output_type": "execute_result"
    }
   ],
   "source": [
    "df.columns"
   ]
  },
  {
   "cell_type": "code",
   "execution_count": 5,
   "metadata": {},
   "outputs": [
    {
     "data": {
      "text/plain": [
       "31"
      ]
     },
     "execution_count": 5,
     "metadata": {},
     "output_type": "execute_result"
    }
   ],
   "source": [
    "len(df.columns)"
   ]
  },
  {
   "cell_type": "code",
   "execution_count": 6,
   "metadata": {},
   "outputs": [
    {
     "name": "stdout",
     "output_type": "stream",
     "text": [
      "0.6997172310347874 +/- 0.03404217036816094\n"
     ]
    }
   ],
   "source": [
    "used_cols = [c for c in df.columns.tolist() if c not in [target]]\n",
    "\n",
    "# worst_cols = [c for c in df.columns.tolist() if 'worst' in c]\n",
    "\n",
    "used_cols = ['mean symmetry'] #+ worst_cols\n",
    "\n",
    "X, y = df[used_cols], df[target]\n",
    "\n",
    "nb = GaussianNB()\n",
    "scores = cross_val_score(nb, X, y, \n",
    "                         n_jobs=-1, \n",
    "                         scoring='roc_auc', \n",
    "                         cv=5)\n",
    "\n",
    "print(scores.mean(), \"+/-\", scores.std())"
   ]
  },
  {
   "cell_type": "code",
   "execution_count": 7,
   "metadata": {},
   "outputs": [
    {
     "name": "stdout",
     "output_type": "stream",
     "text": [
      "['worst perimeter', 'worst texture', 'mean smoothness', 'mean radius']\n",
      "['worst perimeter', 'worst texture', 'mean smoothness', 'mean radius'] : 0.9877597627106306 +/- 0.005980769834332763\n",
      "['worst perimeter', 'worst texture', 'mean smoothness', 'mean texture']\n",
      "['worst perimeter', 'worst texture', 'mean smoothness', 'mean texture'] : 0.9884283738607355 +/- 0.010147697557762929\n",
      "['worst perimeter', 'worst texture', 'mean smoothness', 'mean perimeter']\n",
      "['worst perimeter', 'worst texture', 'mean smoothness', 'mean perimeter'] : 0.987754823514732 +/- 0.005909796112831647\n",
      "['worst perimeter', 'worst texture', 'mean smoothness', 'mean area']\n",
      "['worst perimeter', 'worst texture', 'mean smoothness', 'mean area'] : 0.9849897836632197 +/- 0.006737799352376105\n",
      "['worst perimeter', 'worst texture', 'mean smoothness', 'mean compactness']\n",
      "['worst perimeter', 'worst texture', 'mean smoothness', 'mean compactness'] : 0.9841129464123242 +/- 0.008823500922518934\n",
      "['worst perimeter', 'worst texture', 'mean smoothness', 'mean concavity']\n",
      "['worst perimeter', 'worst texture', 'mean smoothness', 'mean concavity'] : 0.9824152927903338 +/- 0.018779072023567288\n",
      "['worst perimeter', 'worst texture', 'mean smoothness', 'mean concave points']\n",
      "['worst perimeter', 'worst texture', 'mean smoothness', 'mean concave points'] : 0.98817205558935 +/- 0.007880052856165868\n",
      "['worst perimeter', 'worst texture', 'mean smoothness', 'mean symmetry']\n",
      "['worst perimeter', 'worst texture', 'mean smoothness', 'mean symmetry'] : 0.989280125195618 +/- 0.007906615959422932\n",
      "['worst perimeter', 'worst texture', 'mean smoothness', 'mean fractal dimension']\n",
      "['worst perimeter', 'worst texture', 'mean smoothness', 'mean fractal dimension'] : 0.9915460463036618 +/- 0.005011152203034417\n",
      "['worst perimeter', 'worst texture', 'mean smoothness', 'radius error']\n",
      "['worst perimeter', 'worst texture', 'mean smoothness', 'radius error'] : 0.9887283650221743 +/- 0.005768025903012615\n",
      "['worst perimeter', 'worst texture', 'mean smoothness', 'texture error']\n",
      "['worst perimeter', 'worst texture', 'mean smoothness', 'texture error'] : 0.991702410847514 +/- 0.00622765905309713\n",
      "['worst perimeter', 'worst texture', 'mean smoothness', 'perimeter error']\n",
      "['worst perimeter', 'worst texture', 'mean smoothness', 'perimeter error'] : 0.9889546581816481 +/- 0.005112066145918525\n",
      "['worst perimeter', 'worst texture', 'mean smoothness', 'area error']\n",
      "['worst perimeter', 'worst texture', 'mean smoothness', 'area error'] : 0.9888028428971763 +/- 0.005834646159222868\n",
      "['worst perimeter', 'worst texture', 'mean smoothness', 'smoothness error']\n",
      "['worst perimeter', 'worst texture', 'mean smoothness', 'smoothness error'] : 0.98726350350163 +/- 0.008589435739970733\n",
      "['worst perimeter', 'worst texture', 'mean smoothness', 'compactness error']\n",
      "['worst perimeter', 'worst texture', 'mean smoothness', 'compactness error'] : 0.9870067952937263 +/- 0.010012597453320818\n",
      "['worst perimeter', 'worst texture', 'mean smoothness', 'concavity error']\n",
      "['worst perimeter', 'worst texture', 'mean smoothness', 'concavity error'] : 0.9838817140569514 +/- 0.012067159723376054\n",
      "['worst perimeter', 'worst texture', 'mean smoothness', 'concave points error']\n",
      "['worst perimeter', 'worst texture', 'mean smoothness', 'concave points error'] : 0.9897767743411372 +/- 0.008752885913640908\n",
      "['worst perimeter', 'worst texture', 'mean smoothness', 'symmetry error']\n",
      "['worst perimeter', 'worst texture', 'mean smoothness', 'symmetry error'] : 0.9911835353204499 +/- 0.005827746920137786\n",
      "['worst perimeter', 'worst texture', 'mean smoothness', 'fractal dimension error']\n",
      "['worst perimeter', 'worst texture', 'mean smoothness', 'fractal dimension error'] : 0.9920998861385366 +/- 0.00589267530017602\n",
      "['worst perimeter', 'worst texture', 'mean smoothness', 'worst radius']\n",
      "['worst perimeter', 'worst texture', 'mean smoothness', 'worst radius'] : 0.9899113024399628 +/- 0.0059066687976540525\n",
      "['worst perimeter', 'worst texture', 'mean smoothness', 'worst area']\n",
      "['worst perimeter', 'worst texture', 'mean smoothness', 'worst area'] : 0.9868183259765312 +/- 0.0072932685847014725\n",
      "['worst perimeter', 'worst texture', 'mean smoothness', 'worst smoothness']\n",
      "['worst perimeter', 'worst texture', 'mean smoothness', 'worst smoothness'] : 0.9867808920707709 +/- 0.009700797207825879\n",
      "['worst perimeter', 'worst texture', 'mean smoothness', 'worst compactness']\n",
      "['worst perimeter', 'worst texture', 'mean smoothness', 'worst compactness'] : 0.985093896713615 +/- 0.010094378670568192\n",
      "['worst perimeter', 'worst texture', 'mean smoothness', 'worst concavity']\n",
      "['worst perimeter', 'worst texture', 'mean smoothness', 'worst concavity'] : 0.9832624948658358 +/- 0.015000197693863624\n",
      "['worst perimeter', 'worst texture', 'mean smoothness', 'worst concave points']\n",
      "['worst perimeter', 'worst texture', 'mean smoothness', 'worst concave points'] : 0.9891286998476648 +/- 0.00832336702770109\n",
      "['worst perimeter', 'worst texture', 'mean smoothness', 'worst symmetry']\n",
      "['worst perimeter', 'worst texture', 'mean smoothness', 'worst symmetry'] : 0.9910514768195737 +/- 0.006478341176025904\n",
      "['worst perimeter', 'worst texture', 'mean smoothness', 'worst fractal dimension']\n",
      "['worst perimeter', 'worst texture', 'mean smoothness', 'worst fractal dimension'] : 0.9875063039737132 +/- 0.007766434357676439\n",
      "['worst perimeter', 'worst texture', 'mean smoothness', 'TARGET']\n",
      "['worst perimeter', 'worst texture', 'mean smoothness', 'TARGET'] : 1.0 +/- 0.0\n"
     ]
    }
   ],
   "source": [
    "nb = GaussianNB()\n",
    "cols = []\n",
    "means = []\n",
    "stds = []\n",
    "start_cols = ['worst perimeter', 'worst texture', 'mean smoothness']\n",
    "\n",
    "for col in df.columns:\n",
    "    if col in start_cols:\n",
    "        continue\n",
    "    \n",
    "    col_list = start_cols + [ col ]\n",
    "    #col_list.append(col)\n",
    "    print(col_list)\n",
    "    \n",
    "    scores = cross_val_score(nb, df[col_list], df[target], \n",
    "                         n_jobs=-1, \n",
    "                         scoring='roc_auc', \n",
    "                         cv=5)\n",
    "    cols.append(col)\n",
    "    means.append(scores.mean())\n",
    "    stds.append(scores.std())\n",
    "    \n",
    "    print(col_list, \":\", scores.mean(), \"+/-\", scores.std())"
   ]
  },
  {
   "cell_type": "code",
   "execution_count": 8,
   "metadata": {},
   "outputs": [
    {
     "data": {
      "text/plain": [
       "[0.9824152927903338,\n",
       " 0.9832624948658358,\n",
       " 0.9838817140569514,\n",
       " 0.9841129464123242,\n",
       " 0.9849897836632197,\n",
       " 0.985093896713615,\n",
       " 0.9867808920707709,\n",
       " 0.9868183259765312,\n",
       " 0.9870067952937263,\n",
       " 0.98726350350163,\n",
       " 0.9875063039737132,\n",
       " 0.987754823514732,\n",
       " 0.9877597627106306,\n",
       " 0.98817205558935,\n",
       " 0.9884283738607355,\n",
       " 0.9887283650221743,\n",
       " 0.9888028428971763,\n",
       " 0.9889546581816481,\n",
       " 0.9891286998476648,\n",
       " 0.989280125195618,\n",
       " 0.9897767743411372,\n",
       " 0.9899113024399628,\n",
       " 0.9910514768195737,\n",
       " 0.9911835353204499,\n",
       " 0.9915460463036618,\n",
       " 0.991702410847514,\n",
       " 0.9920998861385366,\n",
       " 1.0]"
      ]
     },
     "execution_count": 8,
     "metadata": {},
     "output_type": "execute_result"
    }
   ],
   "source": [
    "sorted(means)"
   ]
  },
  {
   "cell_type": "code",
   "execution_count": null,
   "metadata": {},
   "outputs": [],
   "source": []
  },
  {
   "cell_type": "code",
   "execution_count": 9,
   "metadata": {},
   "outputs": [
    {
     "name": "stdout",
     "output_type": "stream",
     "text": [
      "['worst perimeter', 'worst texture', 'mean smoothness'] : 0.9923607536693027 +/- 0.005942530301031657\n"
     ]
    }
   ],
   "source": [
    "nb = GaussianNB()\n",
    "used_cols = ['worst perimeter', 'worst texture', 'mean smoothness']\n",
    "scores = cross_val_score(nb, df[used_cols], df[target], \n",
    "                         n_jobs=-1, \n",
    "                         scoring='roc_auc', \n",
    "                         cv=5)\n",
    "print(used_cols, \":\", scores.mean(), \"+/-\", scores.std())"
   ]
  },
  {
   "cell_type": "code",
   "execution_count": 12,
   "metadata": {},
   "outputs": [],
   "source": [
    "df['log worst perimeter'] = np.log(df['worst perimeter'])\n",
    "df['log worst texture']   = np.log(df['worst texture'])\n",
    "df['log mean smoothness']   = np.log(df['mean smoothness'])"
   ]
  },
  {
   "cell_type": "code",
   "execution_count": 13,
   "metadata": {},
   "outputs": [
    {
     "name": "stdout",
     "output_type": "stream",
     "text": [
      "['log worst perimeter', 'log worst texture', 'log mean smoothness'] : 0.9936502737354358 +/- 0.005204586561430623\n"
     ]
    }
   ],
   "source": [
    "nb = GaussianNB()\n",
    "used_cols = ['log worst perimeter', 'log worst texture', 'log mean smoothness']\n",
    "scores = cross_val_score(nb, df[used_cols], df[target], \n",
    "                         n_jobs=-1, \n",
    "                         scoring='roc_auc', \n",
    "                         cv=5)\n",
    "print(used_cols, \":\", scores.mean(), \"+/-\", scores.std())"
   ]
  },
  {
   "cell_type": "code",
   "execution_count": 15,
   "metadata": {},
   "outputs": [],
   "source": [
    "df['log2 worst perimeter'] = np.log(1+df['log worst perimeter'])\n",
    "df['log2 worst texture']   = np.log(1+df['log worst texture'])\n",
    "df['log2 mean smoothness'] = np.log(1+df['log mean smoothness'])"
   ]
  },
  {
   "cell_type": "code",
   "execution_count": 16,
   "metadata": {},
   "outputs": [
    {
     "name": "stdout",
     "output_type": "stream",
     "text": [
      "['log worst perimeter', 'log worst texture', 'log mean smoothness'] : 0.9936502737354358 +/- 0.005204586561430623\n"
     ]
    }
   ],
   "source": [
    "nb = GaussianNB()\n",
    "used_cols = ['log worst perimeter', 'log worst texture', 'log mean smoothness']\n",
    "scores = cross_val_score(nb, df[used_cols], df[target], \n",
    "                         n_jobs=-1, \n",
    "                         scoring='roc_auc', \n",
    "                         cv=5)\n",
    "print(used_cols, \":\", scores.mean(), \"+/-\", scores.std())"
   ]
  },
  {
   "cell_type": "code",
   "execution_count": null,
   "metadata": {},
   "outputs": [],
   "source": []
  },
  {
   "cell_type": "code",
   "execution_count": null,
   "metadata": {},
   "outputs": [],
   "source": []
  },
  {
   "cell_type": "code",
   "execution_count": null,
   "metadata": {},
   "outputs": [],
   "source": [
    "# ALLa\n",
    "# 0.9872499857023277 +/- 0.008220915233521506\n",
    "\n",
    "#\n",
    "#"
   ]
  },
  {
   "cell_type": "code",
   "execution_count": null,
   "metadata": {},
   "outputs": [],
   "source": [
    "import matplotlib.pyplot as plt\n",
    "%matplotlib inline"
   ]
  },
  {
   "cell_type": "code",
   "execution_count": null,
   "metadata": {},
   "outputs": [],
   "source": [
    "for col in df.columns:\n",
    "    print(col)\n",
    "    SIZE=(20,8)\n",
    "    #plt.title(col)\n",
    "    plt.figure(figsize=SIZE)\n",
    "    df[col].hist(bins=20)\n",
    "    plt.show()"
   ]
  },
  {
   "cell_type": "code",
   "execution_count": null,
   "metadata": {},
   "outputs": [],
   "source": [
    "SIZE=(20,8)\n",
    "plt.figure(figsize=SIZE)\n",
    "df['worst radius'].hist(bins=20)\n",
    "plt.show()"
   ]
  },
  {
   "cell_type": "code",
   "execution_count": null,
   "metadata": {},
   "outputs": [],
   "source": []
  }
 ],
 "metadata": {
  "kernelspec": {
   "display_name": "Python 3",
   "language": "python",
   "name": "python3"
  },
  "language_info": {
   "codemirror_mode": {
    "name": "ipython",
    "version": 3
   },
   "file_extension": ".py",
   "mimetype": "text/x-python",
   "name": "python",
   "nbconvert_exporter": "python",
   "pygments_lexer": "ipython3",
   "version": "3.7.5"
  }
 },
 "nbformat": 4,
 "nbformat_minor": 2
}
